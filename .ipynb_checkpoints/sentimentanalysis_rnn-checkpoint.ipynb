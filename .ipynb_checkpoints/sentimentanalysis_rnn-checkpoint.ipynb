{
 "cells": [
  {
   "cell_type": "code",
   "execution_count": 20,
   "id": "7c29d200",
   "metadata": {},
   "outputs": [],
   "source": [
    "from keras.datasets import imdb\n",
    "from keras.preprocessing import sequence\n",
    "import tensorflow as tf\n",
    "import os\n",
    "import keras\n",
    "import numpy as np\n",
    "VOCAB_SIZE = 88584\n",
    "MAXLEN = 250\n",
    "BATCH_SIZE =64\n",
    "(train_data,train_labels),(test_data,test_labels) = imdb.load_data(num_words=VOCAB_SIZE)"
   ]
  },
  {
   "cell_type": "code",
   "execution_count": 10,
   "id": "f43aff73",
   "metadata": {},
   "outputs": [
    {
     "data": {
      "text/plain": [
       "0"
      ]
     },
     "execution_count": 10,
     "metadata": {},
     "output_type": "execute_result"
    }
   ],
   "source": [
    "train_labels[2]"
   ]
  },
  {
   "cell_type": "code",
   "execution_count": 11,
   "id": "0edf52f1",
   "metadata": {},
   "outputs": [],
   "source": [
    "#preprocessing, reduce/increase reviews to 250 words\n",
    "train_data=sequence.pad_sequences(train_data,MAXLEN)\n",
    "test_data=sequence.pad_sequences(test_data,MAXLEN)"
   ]
  },
  {
   "cell_type": "code",
   "execution_count": 12,
   "id": "c82b3134",
   "metadata": {},
   "outputs": [],
   "source": [
    "#create the model\n",
    "model=tf.keras.Sequential([\n",
    "    tf.keras.layers.Embedding(VOCAB_SIZE,32),\n",
    "    tf.keras.layers.LSTM(32),\n",
    "    tf.keras.layers.Dense(1,activation=\"sigmoid\")\n",
    "])"
   ]
  },
  {
   "cell_type": "code",
   "execution_count": 13,
   "id": "d507688a",
   "metadata": {},
   "outputs": [
    {
     "name": "stdout",
     "output_type": "stream",
     "text": [
      "Model: \"sequential\"\n",
      "_________________________________________________________________\n",
      "Layer (type)                 Output Shape              Param #   \n",
      "=================================================================\n",
      "embedding (Embedding)        (None, None, 32)          2834688   \n",
      "_________________________________________________________________\n",
      "lstm (LSTM)                  (None, 32)                8320      \n",
      "_________________________________________________________________\n",
      "dense (Dense)                (None, 1)                 33        \n",
      "=================================================================\n",
      "Total params: 2,843,041\n",
      "Trainable params: 2,843,041\n",
      "Non-trainable params: 0\n",
      "_________________________________________________________________\n"
     ]
    }
   ],
   "source": [
    "model.summary()"
   ]
  },
  {
   "cell_type": "code",
   "execution_count": 15,
   "id": "dc3dc8e7",
   "metadata": {},
   "outputs": [
    {
     "name": "stdout",
     "output_type": "stream",
     "text": [
      "Epoch 1/10\n",
      "625/625 [==============================] - 66s 97ms/step - loss: 0.4241 - acc: 0.8082 - val_loss: 0.3165 - val_acc: 0.8766\n",
      "Epoch 2/10\n",
      "625/625 [==============================] - 41s 65ms/step - loss: 0.2381 - acc: 0.9098 - val_loss: 0.2993 - val_acc: 0.8798\n",
      "Epoch 3/10\n",
      "625/625 [==============================] - 41s 66ms/step - loss: 0.1849 - acc: 0.9338 - val_loss: 0.3278 - val_acc: 0.8830\n",
      "Epoch 4/10\n",
      "625/625 [==============================] - 50s 80ms/step - loss: 0.1510 - acc: 0.9473 - val_loss: 0.3175 - val_acc: 0.8946\n",
      "Epoch 5/10\n",
      "625/625 [==============================] - 81s 129ms/step - loss: 0.1287 - acc: 0.9556 - val_loss: 0.2945 - val_acc: 0.8954\n",
      "Epoch 6/10\n",
      "625/625 [==============================] - 78s 125ms/step - loss: 0.1121 - acc: 0.9614 - val_loss: 0.2951 - val_acc: 0.8876\n",
      "Epoch 7/10\n",
      "625/625 [==============================] - 76s 122ms/step - loss: 0.1003 - acc: 0.9671 - val_loss: 0.3346 - val_acc: 0.8870\n",
      "Epoch 8/10\n",
      "625/625 [==============================] - 76s 121ms/step - loss: 0.0887 - acc: 0.9715 - val_loss: 0.3402 - val_acc: 0.8868\n",
      "Epoch 9/10\n",
      "625/625 [==============================] - 75s 120ms/step - loss: 0.0773 - acc: 0.9734 - val_loss: 0.4025 - val_acc: 0.8884\n",
      "Epoch 10/10\n",
      "625/625 [==============================] - 76s 122ms/step - loss: 0.0680 - acc: 0.9772 - val_loss: 0.4389 - val_acc: 0.8860\n"
     ]
    }
   ],
   "source": [
    "#training the model\n",
    "model.compile(loss=\"binary_crossentropy\",optimizer=\"rmsprop\",metrics=['acc'])\n",
    "history=model.fit(train_data,train_labels,epochs=10,validation_split=0.2)"
   ]
  },
  {
   "cell_type": "code",
   "execution_count": 17,
   "id": "1fd69fb9",
   "metadata": {},
   "outputs": [
    {
     "name": "stdout",
     "output_type": "stream",
     "text": [
      "782/782 [==============================] - 41s 53ms/step - loss: 0.5528 - acc: 0.8545\n",
      "[0.5527824759483337, 0.8545200228691101]\n"
     ]
    }
   ],
   "source": [
    "results=model.evaluate(test_data,test_labels)\n",
    "print(results)"
   ]
  },
  {
   "cell_type": "code",
   "execution_count": 21,
   "id": "7a4c4073",
   "metadata": {},
   "outputs": [
    {
     "name": "stdout",
     "output_type": "stream",
     "text": [
      "[  0   0   0   0   0   0   0   0   0   0   0   0   0   0   0   0   0   0\n",
      "   0   0   0   0   0   0   0   0   0   0   0   0   0   0   0   0   0   0\n",
      "   0   0   0   0   0   0   0   0   0   0   0   0   0   0   0   0   0   0\n",
      "   0   0   0   0   0   0   0   0   0   0   0   0   0   0   0   0   0   0\n",
      "   0   0   0   0   0   0   0   0   0   0   0   0   0   0   0   0   0   0\n",
      "   0   0   0   0   0   0   0   0   0   0   0   0   0   0   0   0   0   0\n",
      "   0   0   0   0   0   0   0   0   0   0   0   0   0   0   0   0   0   0\n",
      "   0   0   0   0   0   0   0   0   0   0   0   0   0   0   0   0   0   0\n",
      "   0   0   0   0   0   0   0   0   0   0   0   0   0   0   0   0   0   0\n",
      "   0   0   0   0   0   0   0   0   0   0   0   0   0   0   0   0   0   0\n",
      "   0   0   0   0   0   0   0   0   0   0   0   0   0   0   0   0   0   0\n",
      "   0   0   0   0   0   0   0   0   0   0   0   0   0   0   0   0   0   0\n",
      "   0   0   0   0   0   0   0   0   0   0   0   0   0   0   0   0   0   0\n",
      "   0   0   0   0   0   0   0  12  17  97  25  74 125  71   9  13]\n"
     ]
    }
   ],
   "source": [
    "#making predictions\n",
    "word_index=imdb.get_word_index()\n",
    "\n",
    "def encode_text(text):\n",
    "    tokens= keras.preprocessing.text.text_to_word_sequence(text)\n",
    "    tokens= [word_index[word] if word in word_index else 0 for word in tokens]\n",
    "    return sequence.pad_sequences([tokens],MAXLEN)[0]\n",
    "text=\"that movie could have been better than it was\"\n",
    "encoded=encode_text(text)\n",
    "print(encoded)"
   ]
  },
  {
   "cell_type": "code",
   "execution_count": 23,
   "id": "3ba3c1ee",
   "metadata": {},
   "outputs": [
    {
     "name": "stdout",
     "output_type": "stream",
     "text": [
      "that movie could have been better than it was\n"
     ]
    }
   ],
   "source": [
    "reverse_word_index = {value:key for (key,value) in word_index.items()}\n",
    "\n",
    "def decode_integers(integers):\n",
    "    PAD=0\n",
    "    text=\"\"\n",
    "    for num in integers:\n",
    "        if num!= PAD:\n",
    "            text+=reverse_word_index[num]+\" \"\n",
    "    return text[:-1]\n",
    "print(decode_integers(encoded))"
   ]
  },
  {
   "cell_type": "code",
   "execution_count": 37,
   "id": "220f4b74",
   "metadata": {},
   "outputs": [
    {
     "name": "stdout",
     "output_type": "stream",
     "text": [
      "[0.74962604]\n",
      "[0.6098608]\n"
     ]
    }
   ],
   "source": [
    "#make a prediction\n",
    "def predict(text):\n",
    "    encoded_text=encode_text(text)\n",
    "    pred=np.zeros((1,250))\n",
    "    pred[0]=encoded_text\n",
    "    result=model.predict(pred)\n",
    "    print(result[0])\n",
    "    \n",
    "positive_review = \"Amazing movie. Loved it, watching again\"\n",
    "predict(positive_review)\n",
    "negative_review = \"Worst movie ever\"\n",
    "predict(negative_review)"
   ]
  },
  {
   "cell_type": "code",
   "execution_count": null,
   "id": "27d792c1",
   "metadata": {},
   "outputs": [],
   "source": []
  },
  {
   "cell_type": "code",
   "execution_count": null,
   "id": "51d6c067",
   "metadata": {},
   "outputs": [],
   "source": []
  }
 ],
 "metadata": {
  "kernelspec": {
   "display_name": "Python 3",
   "language": "python",
   "name": "python3"
  },
  "language_info": {
   "codemirror_mode": {
    "name": "ipython",
    "version": 3
   },
   "file_extension": ".py",
   "mimetype": "text/x-python",
   "name": "python",
   "nbconvert_exporter": "python",
   "pygments_lexer": "ipython3",
   "version": "3.8.8"
  }
 },
 "nbformat": 4,
 "nbformat_minor": 5
}
