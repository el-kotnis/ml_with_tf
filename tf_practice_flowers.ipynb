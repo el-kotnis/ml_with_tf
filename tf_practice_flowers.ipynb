{
 "cells": [
  {
   "cell_type": "code",
   "execution_count": 1,
   "id": "e711ff40",
   "metadata": {},
   "outputs": [],
   "source": [
    "!pip install -q sklearn\n",
    "from __future__ import absolute_import, division, print_function, unicode_literals\n",
    "import numpy as np\n",
    "import pandas as pd\n",
    "import matplotlib.pyplot as plt\n",
    "from IPython.display import clear_output\n",
    "from six.moves import urllib\n",
    "import tensorflow.compat.v2.feature_column as fc\n",
    "import tensorflow as tf"
   ]
  },
  {
   "cell_type": "code",
   "execution_count": 2,
   "id": "8bea67f9",
   "metadata": {},
   "outputs": [],
   "source": [
    "CSV_COLUMN_NAMES=['SepalLength','SepalWidth','PetalLength','PetalWidth','Species']\n",
    "SPECIES=['Setosa','Versicolor','Virginica']"
   ]
  },
  {
   "cell_type": "code",
   "execution_count": 3,
   "id": "4b766a7f",
   "metadata": {},
   "outputs": [],
   "source": [
    "train_path = tf.keras.utils.get_file(\n",
    "    \"iris_training.csv\", \"https://storage.googleapis.com/download.tensorflow.org/data/iris_training.csv\")\n",
    "test_path = tf.keras.utils.get_file(\n",
    "    \"iris_test.csv\", \"https://storage.googleapis.com/download.tensorflow.org/data/iris_test.csv\")\n",
    "\n",
    "train = pd.read_csv(train_path, names=CSV_COLUMN_NAMES, header=0)\n",
    "test = pd.read_csv(test_path, names=CSV_COLUMN_NAMES, header=0)"
   ]
  },
  {
   "cell_type": "code",
   "execution_count": 4,
   "id": "26f9cb80",
   "metadata": {},
   "outputs": [
    {
     "data": {
      "text/html": [
       "<div>\n",
       "<style scoped>\n",
       "    .dataframe tbody tr th:only-of-type {\n",
       "        vertical-align: middle;\n",
       "    }\n",
       "\n",
       "    .dataframe tbody tr th {\n",
       "        vertical-align: top;\n",
       "    }\n",
       "\n",
       "    .dataframe thead th {\n",
       "        text-align: right;\n",
       "    }\n",
       "</style>\n",
       "<table border=\"1\" class=\"dataframe\">\n",
       "  <thead>\n",
       "    <tr style=\"text-align: right;\">\n",
       "      <th></th>\n",
       "      <th>SepalLength</th>\n",
       "      <th>SepalWidth</th>\n",
       "      <th>PetalLength</th>\n",
       "      <th>PetalWidth</th>\n",
       "      <th>Species</th>\n",
       "    </tr>\n",
       "  </thead>\n",
       "  <tbody>\n",
       "    <tr>\n",
       "      <th>0</th>\n",
       "      <td>6.4</td>\n",
       "      <td>2.8</td>\n",
       "      <td>5.6</td>\n",
       "      <td>2.2</td>\n",
       "      <td>2</td>\n",
       "    </tr>\n",
       "    <tr>\n",
       "      <th>1</th>\n",
       "      <td>5.0</td>\n",
       "      <td>2.3</td>\n",
       "      <td>3.3</td>\n",
       "      <td>1.0</td>\n",
       "      <td>1</td>\n",
       "    </tr>\n",
       "    <tr>\n",
       "      <th>2</th>\n",
       "      <td>4.9</td>\n",
       "      <td>2.5</td>\n",
       "      <td>4.5</td>\n",
       "      <td>1.7</td>\n",
       "      <td>2</td>\n",
       "    </tr>\n",
       "    <tr>\n",
       "      <th>3</th>\n",
       "      <td>4.9</td>\n",
       "      <td>3.1</td>\n",
       "      <td>1.5</td>\n",
       "      <td>0.1</td>\n",
       "      <td>0</td>\n",
       "    </tr>\n",
       "    <tr>\n",
       "      <th>4</th>\n",
       "      <td>5.7</td>\n",
       "      <td>3.8</td>\n",
       "      <td>1.7</td>\n",
       "      <td>0.3</td>\n",
       "      <td>0</td>\n",
       "    </tr>\n",
       "  </tbody>\n",
       "</table>\n",
       "</div>"
      ],
      "text/plain": [
       "   SepalLength  SepalWidth  PetalLength  PetalWidth  Species\n",
       "0          6.4         2.8          5.6         2.2        2\n",
       "1          5.0         2.3          3.3         1.0        1\n",
       "2          4.9         2.5          4.5         1.7        2\n",
       "3          4.9         3.1          1.5         0.1        0\n",
       "4          5.7         3.8          1.7         0.3        0"
      ]
     },
     "execution_count": 4,
     "metadata": {},
     "output_type": "execute_result"
    }
   ],
   "source": [
    "train.head()"
   ]
  },
  {
   "cell_type": "code",
   "execution_count": 5,
   "id": "1fa86ee6",
   "metadata": {},
   "outputs": [
    {
     "data": {
      "text/html": [
       "<div>\n",
       "<style scoped>\n",
       "    .dataframe tbody tr th:only-of-type {\n",
       "        vertical-align: middle;\n",
       "    }\n",
       "\n",
       "    .dataframe tbody tr th {\n",
       "        vertical-align: top;\n",
       "    }\n",
       "\n",
       "    .dataframe thead th {\n",
       "        text-align: right;\n",
       "    }\n",
       "</style>\n",
       "<table border=\"1\" class=\"dataframe\">\n",
       "  <thead>\n",
       "    <tr style=\"text-align: right;\">\n",
       "      <th></th>\n",
       "      <th>SepalLength</th>\n",
       "      <th>SepalWidth</th>\n",
       "      <th>PetalLength</th>\n",
       "      <th>PetalWidth</th>\n",
       "    </tr>\n",
       "  </thead>\n",
       "  <tbody>\n",
       "    <tr>\n",
       "      <th>0</th>\n",
       "      <td>6.4</td>\n",
       "      <td>2.8</td>\n",
       "      <td>5.6</td>\n",
       "      <td>2.2</td>\n",
       "    </tr>\n",
       "    <tr>\n",
       "      <th>1</th>\n",
       "      <td>5.0</td>\n",
       "      <td>2.3</td>\n",
       "      <td>3.3</td>\n",
       "      <td>1.0</td>\n",
       "    </tr>\n",
       "    <tr>\n",
       "      <th>2</th>\n",
       "      <td>4.9</td>\n",
       "      <td>2.5</td>\n",
       "      <td>4.5</td>\n",
       "      <td>1.7</td>\n",
       "    </tr>\n",
       "    <tr>\n",
       "      <th>3</th>\n",
       "      <td>4.9</td>\n",
       "      <td>3.1</td>\n",
       "      <td>1.5</td>\n",
       "      <td>0.1</td>\n",
       "    </tr>\n",
       "    <tr>\n",
       "      <th>4</th>\n",
       "      <td>5.7</td>\n",
       "      <td>3.8</td>\n",
       "      <td>1.7</td>\n",
       "      <td>0.3</td>\n",
       "    </tr>\n",
       "  </tbody>\n",
       "</table>\n",
       "</div>"
      ],
      "text/plain": [
       "   SepalLength  SepalWidth  PetalLength  PetalWidth\n",
       "0          6.4         2.8          5.6         2.2\n",
       "1          5.0         2.3          3.3         1.0\n",
       "2          4.9         2.5          4.5         1.7\n",
       "3          4.9         3.1          1.5         0.1\n",
       "4          5.7         3.8          1.7         0.3"
      ]
     },
     "execution_count": 5,
     "metadata": {},
     "output_type": "execute_result"
    }
   ],
   "source": [
    "train_y = train.pop('Species')\n",
    "test_y = test.pop('Species')\n",
    "\n",
    "# The label column has now been removed from the features.\n",
    "train.head()"
   ]
  },
  {
   "cell_type": "code",
   "execution_count": 6,
   "id": "ea70b4e4",
   "metadata": {},
   "outputs": [
    {
     "data": {
      "text/plain": [
       "(120, 4)"
      ]
     },
     "execution_count": 6,
     "metadata": {},
     "output_type": "execute_result"
    }
   ],
   "source": [
    "train.shape"
   ]
  },
  {
   "cell_type": "code",
   "execution_count": 7,
   "id": "005aebcb",
   "metadata": {},
   "outputs": [],
   "source": [
    "\n",
    "def input_fn(features, labels, training=True, batch_size=256):\n",
    "    \"\"\"An input function for training or evaluating\"\"\"\n",
    "    # Convert the inputs to a Dataset.\n",
    "    dataset = tf.data.Dataset.from_tensor_slices((dict(features), labels))\n",
    "\n",
    "    # Shuffle and repeat if you are in training mode.\n",
    "    if training:\n",
    "        dataset = dataset.shuffle(1000).repeat()\n",
    "\n",
    "    return dataset.batch(batch_size)"
   ]
  },
  {
   "cell_type": "code",
   "execution_count": 8,
   "id": "d99efbd7",
   "metadata": {},
   "outputs": [
    {
     "name": "stdout",
     "output_type": "stream",
     "text": [
      "[NumericColumn(key='SepalLength', shape=(1,), default_value=None, dtype=tf.float32, normalizer_fn=None), NumericColumn(key='SepalWidth', shape=(1,), default_value=None, dtype=tf.float32, normalizer_fn=None), NumericColumn(key='PetalLength', shape=(1,), default_value=None, dtype=tf.float32, normalizer_fn=None), NumericColumn(key='PetalWidth', shape=(1,), default_value=None, dtype=tf.float32, normalizer_fn=None)]\n"
     ]
    }
   ],
   "source": [
    "# Feature columns describe how to use the input.\n",
    "my_feature_columns = []\n",
    "for key in train.keys():\n",
    "    my_feature_columns.append(tf.feature_column.numeric_column(key=key))\n",
    "print(my_feature_columns)"
   ]
  },
  {
   "cell_type": "code",
   "execution_count": 9,
   "id": "f72069ea",
   "metadata": {},
   "outputs": [
    {
     "name": "stdout",
     "output_type": "stream",
     "text": [
      "INFO:tensorflow:Using default config.\n",
      "WARNING:tensorflow:Using temporary folder as model directory: C:\\Users\\kkotn\\AppData\\Local\\Temp\\tmpqmzdeu7m\n",
      "INFO:tensorflow:Using config: {'_model_dir': 'C:\\\\Users\\\\kkotn\\\\AppData\\\\Local\\\\Temp\\\\tmpqmzdeu7m', '_tf_random_seed': None, '_save_summary_steps': 100, '_save_checkpoints_steps': None, '_save_checkpoints_secs': 600, '_session_config': allow_soft_placement: true\n",
      "graph_options {\n",
      "  rewrite_options {\n",
      "    meta_optimizer_iterations: ONE\n",
      "  }\n",
      "}\n",
      ", '_keep_checkpoint_max': 5, '_keep_checkpoint_every_n_hours': 10000, '_log_step_count_steps': 100, '_train_distribute': None, '_device_fn': None, '_protocol': None, '_eval_distribute': None, '_experimental_distribute': None, '_experimental_max_worker_delay_secs': None, '_session_creation_timeout_secs': 7200, '_checkpoint_save_graph_def': True, '_service': None, '_cluster_spec': ClusterSpec({}), '_task_type': 'worker', '_task_id': 0, '_global_id_in_cluster': 0, '_master': '', '_evaluation_master': '', '_is_chief': True, '_num_ps_replicas': 0, '_num_worker_replicas': 1}\n"
     ]
    }
   ],
   "source": [
    "# Build a DNN with 2 hidden layers with 30 and 10 hidden nodes each.\n",
    "classifier = tf.estimator.DNNClassifier(\n",
    "    feature_columns=my_feature_columns,\n",
    "    # Two hidden layers of 30 and 10 nodes respectively.\n",
    "    hidden_units=[30, 10],\n",
    "    # The model must choose between 3 classes.\n",
    "    n_classes=3)\n"
   ]
  },
  {
   "cell_type": "code",
   "execution_count": 10,
   "id": "4e411dec",
   "metadata": {},
   "outputs": [
    {
     "name": "stdout",
     "output_type": "stream",
     "text": [
      "WARNING:tensorflow:From C:\\Users\\kkotn\\AppData\\Roaming\\Python\\Python38\\site-packages\\tensorflow\\python\\training\\training_util.py:235: Variable.initialized_value (from tensorflow.python.ops.variables) is deprecated and will be removed in a future version.\n",
      "Instructions for updating:\n",
      "Use Variable.read_value. Variables in 2.X are initialized automatically both in eager and graph (inside tf.defun) contexts.\n",
      "INFO:tensorflow:Calling model_fn.\n",
      "WARNING:tensorflow:From C:\\Users\\kkotn\\AppData\\Roaming\\Python\\Python38\\site-packages\\keras\\optimizer_v2\\adagrad.py:83: calling Constant.__init__ (from tensorflow.python.ops.init_ops) with dtype is deprecated and will be removed in a future version.\n",
      "Instructions for updating:\n",
      "Call initializer instance with the dtype argument instead of passing it to the constructor\n",
      "INFO:tensorflow:Done calling model_fn.\n",
      "INFO:tensorflow:Create CheckpointSaverHook.\n",
      "INFO:tensorflow:Graph was finalized.\n",
      "INFO:tensorflow:Running local_init_op.\n",
      "INFO:tensorflow:Done running local_init_op.\n",
      "INFO:tensorflow:Calling checkpoint listeners before saving checkpoint 0...\n",
      "INFO:tensorflow:Saving checkpoints for 0 into C:\\Users\\kkotn\\AppData\\Local\\Temp\\tmpqmzdeu7m\\model.ckpt.\n",
      "INFO:tensorflow:Calling checkpoint listeners after saving checkpoint 0...\n",
      "INFO:tensorflow:loss = 1.6076012, step = 0\n",
      "INFO:tensorflow:global_step/sec: 305.786\n",
      "INFO:tensorflow:loss = 1.212079, step = 100 (0.328 sec)\n",
      "INFO:tensorflow:global_step/sec: 534.727\n",
      "INFO:tensorflow:loss = 1.0022502, step = 200 (0.188 sec)\n",
      "INFO:tensorflow:global_step/sec: 438.563\n",
      "INFO:tensorflow:loss = 0.91531336, step = 300 (0.228 sec)\n",
      "INFO:tensorflow:global_step/sec: 515.425\n",
      "INFO:tensorflow:loss = 0.86449623, step = 400 (0.194 sec)\n",
      "INFO:tensorflow:global_step/sec: 512.781\n",
      "INFO:tensorflow:loss = 0.81760263, step = 500 (0.195 sec)\n",
      "INFO:tensorflow:global_step/sec: 577.994\n",
      "INFO:tensorflow:loss = 0.7748369, step = 600 (0.172 sec)\n",
      "INFO:tensorflow:global_step/sec: 564.93\n",
      "INFO:tensorflow:loss = 0.7610339, step = 700 (0.177 sec)\n",
      "INFO:tensorflow:global_step/sec: 429.821\n",
      "INFO:tensorflow:loss = 0.754007, step = 800 (0.233 sec)\n",
      "INFO:tensorflow:global_step/sec: 523.526\n",
      "INFO:tensorflow:loss = 0.7363666, step = 900 (0.192 sec)\n",
      "INFO:tensorflow:global_step/sec: 507.575\n",
      "INFO:tensorflow:loss = 0.6842155, step = 1000 (0.197 sec)\n",
      "INFO:tensorflow:global_step/sec: 403.193\n",
      "INFO:tensorflow:loss = 0.6936568, step = 1100 (0.248 sec)\n",
      "INFO:tensorflow:global_step/sec: 421.913\n",
      "INFO:tensorflow:loss = 0.6927638, step = 1200 (0.237 sec)\n",
      "INFO:tensorflow:global_step/sec: 495.001\n",
      "INFO:tensorflow:loss = 0.6954833, step = 1300 (0.201 sec)\n",
      "INFO:tensorflow:global_step/sec: 460.802\n",
      "INFO:tensorflow:loss = 0.6693839, step = 1400 (0.217 sec)\n",
      "INFO:tensorflow:global_step/sec: 546.41\n",
      "INFO:tensorflow:loss = 0.6737891, step = 1500 (0.184 sec)\n",
      "INFO:tensorflow:global_step/sec: 529.061\n",
      "INFO:tensorflow:loss = 0.66214955, step = 1600 (0.188 sec)\n",
      "INFO:tensorflow:global_step/sec: 523.523\n",
      "INFO:tensorflow:loss = 0.64063394, step = 1700 (0.191 sec)\n",
      "INFO:tensorflow:global_step/sec: 404.826\n",
      "INFO:tensorflow:loss = 0.6495812, step = 1800 (0.248 sec)\n",
      "INFO:tensorflow:global_step/sec: 440.497\n",
      "INFO:tensorflow:loss = 0.62994874, step = 1900 (0.227 sec)\n",
      "INFO:tensorflow:global_step/sec: 552.442\n",
      "INFO:tensorflow:loss = 0.6489912, step = 2000 (0.181 sec)\n",
      "INFO:tensorflow:global_step/sec: 564.931\n",
      "INFO:tensorflow:loss = 0.62038046, step = 2100 (0.177 sec)\n",
      "INFO:tensorflow:global_step/sec: 416.636\n",
      "INFO:tensorflow:loss = 0.6067685, step = 2200 (0.239 sec)\n",
      "INFO:tensorflow:global_step/sec: 584.751\n",
      "INFO:tensorflow:loss = 0.6149094, step = 2300 (0.171 sec)\n",
      "INFO:tensorflow:global_step/sec: 564.931\n",
      "INFO:tensorflow:loss = 0.61253226, step = 2400 (0.177 sec)\n",
      "INFO:tensorflow:global_step/sec: 561.755\n",
      "INFO:tensorflow:loss = 0.6117719, step = 2500 (0.178 sec)\n",
      "INFO:tensorflow:global_step/sec: 483.058\n",
      "INFO:tensorflow:loss = 0.5987277, step = 2600 (0.208 sec)\n",
      "INFO:tensorflow:global_step/sec: 495.012\n",
      "INFO:tensorflow:loss = 0.5827476, step = 2700 (0.201 sec)\n",
      "INFO:tensorflow:global_step/sec: 568.137\n",
      "INFO:tensorflow:loss = 0.57059085, step = 2800 (0.176 sec)\n",
      "INFO:tensorflow:global_step/sec: 564.93\n",
      "INFO:tensorflow:loss = 0.5741459, step = 2900 (0.177 sec)\n",
      "INFO:tensorflow:global_step/sec: 574.667\n",
      "INFO:tensorflow:loss = 0.5867262, step = 3000 (0.175 sec)\n",
      "INFO:tensorflow:global_step/sec: 549.41\n",
      "INFO:tensorflow:loss = 0.58097935, step = 3100 (0.182 sec)\n",
      "INFO:tensorflow:global_step/sec: 564.933\n",
      "INFO:tensorflow:loss = 0.5785968, step = 3200 (0.176 sec)\n",
      "INFO:tensorflow:global_step/sec: 386.066\n",
      "INFO:tensorflow:loss = 0.56807315, step = 3300 (0.259 sec)\n",
      "INFO:tensorflow:global_step/sec: 425.502\n",
      "INFO:tensorflow:loss = 0.5439714, step = 3400 (0.235 sec)\n",
      "INFO:tensorflow:global_step/sec: 471.659\n",
      "INFO:tensorflow:loss = 0.55900145, step = 3500 (0.212 sec)\n",
      "INFO:tensorflow:global_step/sec: 476.162\n",
      "INFO:tensorflow:loss = 0.5435468, step = 3600 (0.210 sec)\n",
      "INFO:tensorflow:global_step/sec: 564.928\n",
      "INFO:tensorflow:loss = 0.5593947, step = 3700 (0.177 sec)\n",
      "INFO:tensorflow:global_step/sec: 434.751\n",
      "INFO:tensorflow:loss = 0.54859, step = 3800 (0.230 sec)\n",
      "INFO:tensorflow:global_step/sec: 555.519\n",
      "INFO:tensorflow:loss = 0.5427513, step = 3900 (0.180 sec)\n",
      "INFO:tensorflow:global_step/sec: 450.411\n",
      "INFO:tensorflow:loss = 0.52786314, step = 4000 (0.222 sec)\n",
      "INFO:tensorflow:global_step/sec: 440.5\n",
      "INFO:tensorflow:loss = 0.5216453, step = 4100 (0.227 sec)\n",
      "INFO:tensorflow:global_step/sec: 438.561\n",
      "INFO:tensorflow:loss = 0.52249646, step = 4200 (0.229 sec)\n",
      "INFO:tensorflow:global_step/sec: 434.753\n",
      "INFO:tensorflow:loss = 0.52837354, step = 4300 (0.230 sec)\n",
      "INFO:tensorflow:global_step/sec: 543.429\n",
      "INFO:tensorflow:loss = 0.52792835, step = 4400 (0.183 sec)\n",
      "INFO:tensorflow:global_step/sec: 537.602\n",
      "INFO:tensorflow:loss = 0.51977956, step = 4500 (0.186 sec)\n",
      "INFO:tensorflow:global_step/sec: 529.064\n",
      "INFO:tensorflow:loss = 0.49708444, step = 4600 (0.190 sec)\n",
      "INFO:tensorflow:global_step/sec: 450.41\n",
      "INFO:tensorflow:loss = 0.5253389, step = 4700 (0.221 sec)\n",
      "INFO:tensorflow:global_step/sec: 444.396\n",
      "INFO:tensorflow:loss = 0.5112858, step = 4800 (0.225 sec)\n",
      "INFO:tensorflow:global_step/sec: 429.163\n",
      "INFO:tensorflow:loss = 0.52039933, step = 4900 (0.234 sec)\n",
      "INFO:tensorflow:Calling checkpoint listeners before saving checkpoint 5000...\n",
      "INFO:tensorflow:Saving checkpoints for 5000 into C:\\Users\\kkotn\\AppData\\Local\\Temp\\tmpqmzdeu7m\\model.ckpt.\n",
      "INFO:tensorflow:Calling checkpoint listeners after saving checkpoint 5000...\n",
      "INFO:tensorflow:Loss for final step: 0.50979686.\n"
     ]
    },
    {
     "data": {
      "text/plain": [
       "<tensorflow_estimator.python.estimator.canned.dnn.DNNClassifierV2 at 0x17cb5a85f10>"
      ]
     },
     "execution_count": 10,
     "metadata": {},
     "output_type": "execute_result"
    }
   ],
   "source": [
    "# Train the Model.\n",
    "classifier.train(\n",
    "    input_fn=lambda: input_fn(train, train_y, training=True),\n",
    "    steps=5000)"
   ]
  },
  {
   "cell_type": "code",
   "execution_count": 12,
   "id": "15684d76",
   "metadata": {},
   "outputs": [
    {
     "name": "stdout",
     "output_type": "stream",
     "text": [
      "INFO:tensorflow:Calling model_fn.\n",
      "INFO:tensorflow:Done calling model_fn.\n",
      "INFO:tensorflow:Starting evaluation at 2021-08-21T21:52:38\n",
      "INFO:tensorflow:Graph was finalized.\n",
      "INFO:tensorflow:Restoring parameters from C:\\Users\\kkotn\\AppData\\Local\\Temp\\tmpqmzdeu7m\\model.ckpt-5000\n",
      "INFO:tensorflow:Running local_init_op.\n",
      "INFO:tensorflow:Done running local_init_op.\n",
      "INFO:tensorflow:Inference Time : 0.29802s\n",
      "INFO:tensorflow:Finished evaluation at 2021-08-21-21:52:38\n",
      "INFO:tensorflow:Saving dict for global step 5000: accuracy = 0.53333336, average_loss = 0.6682721, global_step = 5000, loss = 0.6682721\n",
      "INFO:tensorflow:Saving 'checkpoint_path' summary for global step 5000: C:\\Users\\kkotn\\AppData\\Local\\Temp\\tmpqmzdeu7m\\model.ckpt-5000\n",
      "\n",
      "Test set accuracy: 0.533\n",
      "\n"
     ]
    }
   ],
   "source": [
    "eval_result = classifier.evaluate(\n",
    "    input_fn=lambda: input_fn(test, test_y, training=False))\n",
    "\n",
    "print('\\nTest set accuracy: {accuracy:0.3f}\\n'.format(**eval_result))"
   ]
  },
  {
   "cell_type": "code",
   "execution_count": 13,
   "id": "e38d5065",
   "metadata": {},
   "outputs": [],
   "source": [
    "# Generate predictions from the model\n",
    "expected = ['Setosa', 'Versicolor', 'Virginica']\n",
    "predict_x = {\n",
    "    'SepalLength': [5.1, 5.9, 6.9],\n",
    "    'SepalWidth': [3.3, 3.0, 3.1],\n",
    "    'PetalLength': [1.7, 4.2, 5.4],\n",
    "    'PetalWidth': [0.5, 1.5, 2.1],\n",
    "}\n",
    "\n",
    "def input_fn(features, batch_size=256):\n",
    "    \"\"\"An input function for prediction.\"\"\"\n",
    "    # Convert the inputs to a Dataset without labels.\n",
    "    return tf.data.Dataset.from_tensor_slices(dict(features)).batch(batch_size)\n",
    "\n",
    "predictions = classifier.predict(\n",
    "    input_fn=lambda: input_fn(predict_x))"
   ]
  },
  {
   "cell_type": "code",
   "execution_count": 14,
   "id": "7d846190",
   "metadata": {},
   "outputs": [
    {
     "name": "stdout",
     "output_type": "stream",
     "text": [
      "INFO:tensorflow:Calling model_fn.\n",
      "INFO:tensorflow:Done calling model_fn.\n",
      "INFO:tensorflow:Graph was finalized.\n",
      "INFO:tensorflow:Restoring parameters from C:\\Users\\kkotn\\AppData\\Local\\Temp\\tmpqmzdeu7m\\model.ckpt-5000\n",
      "INFO:tensorflow:Running local_init_op.\n",
      "INFO:tensorflow:Done running local_init_op.\n",
      "Prediction is \"Setosa\" (82.7%), expected \"Setosa\"\n",
      "Prediction is \"Virginica\" (48.5%), expected \"Versicolor\"\n",
      "Prediction is \"Virginica\" (72.9%), expected \"Virginica\"\n"
     ]
    }
   ],
   "source": [
    "for pred_dict, expec in zip(predictions, expected):\n",
    "    class_id = pred_dict['class_ids'][0]\n",
    "    probability = pred_dict['probabilities'][class_id]\n",
    "\n",
    "    print('Prediction is \"{}\" ({:.1f}%), expected \"{}\"'.format(\n",
    "        SPECIES[class_id], 100 * probability, expec))"
   ]
  },
  {
   "cell_type": "code",
   "execution_count": null,
   "id": "d5a2bc90",
   "metadata": {},
   "outputs": [],
   "source": []
  }
 ],
 "metadata": {
  "kernelspec": {
   "display_name": "Python 3",
   "language": "python",
   "name": "python3"
  },
  "language_info": {
   "codemirror_mode": {
    "name": "ipython",
    "version": 3
   },
   "file_extension": ".py",
   "mimetype": "text/x-python",
   "name": "python",
   "nbconvert_exporter": "python",
   "pygments_lexer": "ipython3",
   "version": "3.8.8"
  }
 },
 "nbformat": 4,
 "nbformat_minor": 5
}
